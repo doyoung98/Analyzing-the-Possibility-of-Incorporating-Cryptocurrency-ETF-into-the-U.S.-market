{
 "cells": [
  {
   "cell_type": "code",
   "execution_count": 1,
   "metadata": {},
   "outputs": [],
   "source": [
    "import numpy as np\n",
    "import sklearn\n",
    "import pandas as pd\n",
    "import matplotlib.pyplot as plt\n",
    "import time\n",
    "\n",
    "from sklearn import datasets\n",
    "from scipy.cluster.hierarchy import fcluster\n",
    "from scipy.cluster.hierarchy import dendrogram, linkage, cophenet\n",
    "from scipy.stats import norm\n",
    "\n",
    "from Average_Correlation import Calculate_Average_Correlation\n",
    "from Distance_Matrix import Translate_To_Distance_Matrix"
   ]
  },
  {
   "cell_type": "code",
   "execution_count": 2,
   "metadata": {},
   "outputs": [],
   "source": [
    "data = pd.read_csv('../data/log_mv.csv', index_col = 0)\n",
    "distance_matrix = Translate_To_Distance_Matrix(data.corr())"
   ]
  },
  {
   "cell_type": "markdown",
   "metadata": {},
   "source": [
    "Do Hierarchical Clustering"
   ]
  },
  {
   "cell_type": "code",
   "execution_count": 3,
   "metadata": {},
   "outputs": [
    {
     "name": "stderr",
     "output_type": "stream",
     "text": [
      "C:\\Users\\user\\anaconda3\\lib\\site-packages\\scipy\\cluster\\hierarchy.py:834: ClusterWarning: scipy.cluster: The symmetric non-negative hollow observation matrix looks suspiciously like an uncondensed distance matrix\n",
      "  return linkage(y, method='ward', metric='euclidean')\n"
     ]
    },
    {
     "data": {
      "text/plain": [
       "6     98\n",
       "45    64\n",
       "21    59\n",
       "2     57\n",
       "3     56\n",
       "9     53\n",
       "56    48\n",
       "33    42\n",
       "35    41\n",
       "23    41\n",
       "44    40\n",
       "11    39\n",
       "29    37\n",
       "27    36\n",
       "24    35\n",
       "17    34\n",
       "36    34\n",
       "8     34\n",
       "28    30\n",
       "15    30\n",
       "16    29\n",
       "14    28\n",
       "55    28\n",
       "5     28\n",
       "40    27\n",
       "7     27\n",
       "25    26\n",
       "32    25\n",
       "22    25\n",
       "1     24\n",
       "20    24\n",
       "19    24\n",
       "13    24\n",
       "38    24\n",
       "10    24\n",
       "58    23\n",
       "39    23\n",
       "30    23\n",
       "18    21\n",
       "50    21\n",
       "12    20\n",
       "37    20\n",
       "0     19\n",
       "41    19\n",
       "26    19\n",
       "31    18\n",
       "4     18\n",
       "48    17\n",
       "42    16\n",
       "59    15\n",
       "57    15\n",
       "34    15\n",
       "43    14\n",
       "47    14\n",
       "54    13\n",
       "53    10\n",
       "51    10\n",
       "52     9\n",
       "49     8\n",
       "46     8\n",
       "dtype: int64"
      ]
     },
     "execution_count": 3,
     "metadata": {},
     "output_type": "execute_result"
    }
   ],
   "source": [
    "from sklearn.cluster import AgglomerativeClustering\n",
    "\n",
    "cluster = AgglomerativeClustering(n_clusters = 60, affinity ='euclidean', linkage = 'ward')\n",
    "cluster_number = cluster.fit_predict(distance_matrix)\n",
    "\n",
    "predict_value_counts = pd.DataFrame(cluster_number).value_counts()\n",
    "predict_value_counts"
   ]
  },
  {
   "cell_type": "markdown",
   "metadata": {},
   "source": [
    "Calculate Average Correlation of each clusters"
   ]
  },
  {
   "cell_type": "code",
   "execution_count": 4,
   "metadata": {},
   "outputs": [
    {
     "data": {
      "text/plain": [
       "[0.35728538442273405,\n",
       " 0.5879702546846789,\n",
       " 0.7946767942551866,\n",
       " 0.8544728195768079,\n",
       " 0.8204676722239406,\n",
       " 0.8182325636453454,\n",
       " 0.8679898381923699,\n",
       " 0.8618559243690813,\n",
       " 0.8620434978536919,\n",
       " 0.8721443452563831,\n",
       " 0.8763644487271185,\n",
       " 0.876694300814494,\n",
       " 0.8766473492724367,\n",
       " 0.8583616121703723,\n",
       " 0.8559243434929872,\n",
       " 0.8595893338885677,\n",
       " 0.8442340749388481,\n",
       " 0.8484687697004747,\n",
       " 0.851237806725572,\n",
       " 0.8518905878006104,\n",
       " 0.8516945289095674,\n",
       " 0.8619338317682578,\n",
       " 0.8615296934147686,\n",
       " 0.8632903519805077,\n",
       " 0.8676533300644197,\n",
       " 0.8667917662878365,\n",
       " 0.8680562496150103,\n",
       " 0.8688484929772938,\n",
       " 0.8708198175495588,\n",
       " 0.8682359707686053,\n",
       " 0.866725906002879,\n",
       " 0.8652935233438902,\n",
       " 0.8639669480287221,\n",
       " 0.8679005237657791,\n",
       " 0.8687555054527692,\n",
       " 0.8718995622891097,\n",
       " 0.8749290790024732,\n",
       " 0.8730634265009939,\n",
       " 0.8669876488104333,\n",
       " 0.8684671625599,\n",
       " 0.8549187291668626,\n",
       " 0.8551540483029322,\n",
       " 0.8564182526003922,\n",
       " 0.8550867271690834,\n",
       " 0.8580921502615542,\n",
       " 0.8634775599156765,\n",
       " 0.8641704714776326,\n",
       " 0.8603785167875135,\n",
       " 0.8612099765396953,\n",
       " 0.86149121487135,\n",
       " 0.8617011381442922,\n",
       " 0.8606753762421606,\n",
       " 0.8613494936791264,\n",
       " 0.8621675330805193,\n",
       " 0.8627396610690509,\n",
       " 0.8636561422285013,\n",
       " 0.8656348400700327,\n",
       " 0.8610837812013749,\n",
       " 0.8613509518062352,\n",
       " 0.8610060179539303]"
      ]
     },
     "execution_count": 4,
     "metadata": {},
     "output_type": "execute_result"
    }
   ],
   "source": [
    "AC_list = Calculate_Average_Correlation(data, cluster_number)\n",
    "AC_list"
   ]
  },
  {
   "cell_type": "markdown",
   "metadata": {},
   "source": [
    "Calculate silhouette_coefficient"
   ]
  },
  {
   "cell_type": "code",
   "execution_count": 5,
   "metadata": {},
   "outputs": [
    {
     "data": {
      "text/plain": [
       "0.5945119077779074"
      ]
     },
     "execution_count": 5,
     "metadata": {},
     "output_type": "execute_result"
    }
   ],
   "source": [
    "silhouette = sklearn.metrics.silhouette_samples(distance_matrix, cluster_number)\n",
    "\n",
    "distance_matrix_copy = distance_matrix\n",
    "distance_matrix_copy['cluster'] = cluster_number\n",
    "distance_matrix_copy['silhouette_coeff'] = silhouette\n",
    "distance_matrix_copy.groupby('cluster')['silhouette_coeff'].mean()\n",
    "\n",
    "silhouette_score = sklearn.metrics.silhouette_score(distance_matrix_copy, cluster_number)\n",
    "silhouette_score"
   ]
  },
  {
   "cell_type": "markdown",
   "metadata": {},
   "source": [
    "Calculate Dunn-Index"
   ]
  },
  {
   "cell_type": "markdown",
   "metadata": {},
   "source": []
  }
 ],
 "metadata": {
  "interpreter": {
   "hash": "6d46af94c2bbce495f1e668725902fa517c90b1782bcfe2fce0dd9868df553d3"
  },
  "kernelspec": {
   "display_name": "Python 3.8.8 64-bit ('base': conda)",
   "language": "python",
   "name": "python3"
  },
  "language_info": {
   "codemirror_mode": {
    "name": "ipython",
    "version": 3
   },
   "file_extension": ".py",
   "mimetype": "text/x-python",
   "name": "python",
   "nbconvert_exporter": "python",
   "pygments_lexer": "ipython3",
   "version": "3.8.8"
  },
  "orig_nbformat": 4
 },
 "nbformat": 4,
 "nbformat_minor": 2
}
