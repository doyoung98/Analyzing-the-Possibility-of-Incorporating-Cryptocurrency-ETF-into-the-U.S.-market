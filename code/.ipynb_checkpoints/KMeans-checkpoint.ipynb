{
 "cells": [
  {
   "cell_type": "code",
   "execution_count": 21,
   "metadata": {},
   "outputs": [],
   "source": [
    "import numpy as np\n",
    "import sklearn\n",
    "import pandas as pd\n",
    "import matplotlib.pyplot as plt\n",
    "import time\n",
    "\n",
    "from sklearn import datasets\n",
    "from scipy.cluster.hierarchy import fcluster\n",
    "from scipy.cluster.hierarchy import dendrogram, linkage, cophenet\n",
    "from scipy.stats import norm\n",
    "\n",
    "from Average_Correlation import Calculate_Average_Correlation\n",
    "from Distance_Matrix import Translate_To_Distance_Matrix"
   ]
  },
  {
   "cell_type": "markdown",
   "metadata": {},
   "source": [
    "Calculate Average Correlation of each clusters"
   ]
  },
  {
   "cell_type": "code",
   "execution_count": 22,
   "metadata": {},
   "outputs": [],
   "source": [
    "data = pd.read_csv('../data/log_mv.csv', index_col = 0)\n",
    "distance_matrix = Translate_To_Distance_Matrix(data.corr())"
   ]
  },
  {
   "cell_type": "code",
   "execution_count": 23,
   "metadata": {},
   "outputs": [],
   "source": [
    "from sklearn.cluster import KMeans\n",
    "\n",
    "cluster_num = 60\n",
    "model = KMeans(n_clusters = cluster_num)\n",
    "model.fit(distance_matrix)\n",
    "cluster_number = model.predict(distance_matrix)"
   ]
  },
  {
   "cell_type": "code",
   "execution_count": 24,
   "metadata": {},
   "outputs": [
    {
     "data": {
      "text/plain": [
       "[0.8848825845472771,\n",
       " 0.75611187684175,\n",
       " 0.6976222552289677,\n",
       " 0.7615858369368511,\n",
       " 0.7613267652449203,\n",
       " 0.7672297245001829,\n",
       " 0.7648263212231523,\n",
       " 0.7764180734505048,\n",
       " 0.7568948572417312,\n",
       " 0.7809814135551375,\n",
       " 0.807767459914918,\n",
       " 0.8182591428357908,\n",
       " 0.8325593924055846,\n",
       " 0.8326262357233427,\n",
       " 0.8314835617585707,\n",
       " 0.8033114380076563,\n",
       " 0.8097405522501567,\n",
       " 0.8046669641005239,\n",
       " 0.8089381093582303,\n",
       " 0.810251611715908,\n",
       " 0.8292111234238287,\n",
       " 0.8329657322363826,\n",
       " 0.8368416542516586,\n",
       " 0.8355206983104712,\n",
       " 0.8363055694175435,\n",
       " 0.8434198507913113,\n",
       " 0.8425708029888185,\n",
       " 0.844193213154126,\n",
       " 0.8474588129082419,\n",
       " 0.8418968112807279,\n",
       " 0.8512968302405273,\n",
       " 0.8563818391803119,\n",
       " 0.858023299462276,\n",
       " 0.859049725936946,\n",
       " 0.8602292321787017,\n",
       " 0.8563677948045151,\n",
       " 0.8561063006599321,\n",
       " 0.8566397804303989,\n",
       " 0.8585337924569848,\n",
       " 0.8450001798606844,\n",
       " 0.850124551535082,\n",
       " 0.8515142340131007,\n",
       " 0.8557358903166292,\n",
       " 0.8605585523789967,\n",
       " 0.8609011415203671,\n",
       " 0.8590455074931447,\n",
       " 0.8581719406680297,\n",
       " 0.8578350441339376,\n",
       " 0.8549225790553798,\n",
       " 0.8544811892976508,\n",
       " 0.8513276682178579,\n",
       " 0.85595551679054,\n",
       " 0.8570211318751825,\n",
       " 0.8570070277465915,\n",
       " 0.8560282115800675,\n",
       " 0.8616652682788334,\n",
       " 0.8626270018518417,\n",
       " 0.8632422027408233,\n",
       " 0.8634859077554454,\n",
       " 0.8637469303695613]"
      ]
     },
     "execution_count": 24,
     "metadata": {},
     "output_type": "execute_result"
    }
   ],
   "source": [
    "AC_list = Calculate_Average_Correlation(data, cluster_number)\n",
    "AC_list"
   ]
  },
  {
   "cell_type": "markdown",
   "metadata": {},
   "source": [
    "Calculating silhouette_coefficient"
   ]
  },
  {
   "cell_type": "code",
   "execution_count": 25,
   "metadata": {},
   "outputs": [
    {
     "data": {
      "text/plain": [
       "0.6333609971909342"
      ]
     },
     "execution_count": 25,
     "metadata": {},
     "output_type": "execute_result"
    }
   ],
   "source": [
    "silhouette = sklearn.metrics.silhouette_samples(distance_matrix, cluster_number)\n",
    "\n",
    "distance_matrix_copy = distance_matrix\n",
    "distance_matrix_copy['cluster'] = cluster_number\n",
    "distance_matrix_copy['silhouette_coeff'] = silhouette\n",
    "distance_matrix_copy.groupby('cluster')['silhouette_coeff'].mean()\n",
    "\n",
    "silhouette_score = sklearn.metrics.silhouette_score(distance_matrix_copy, cluster_number)\n",
    "silhouette_score"
   ]
  },
  {
   "cell_type": "code",
   "execution_count": 26,
   "metadata": {},
   "outputs": [
    {
     "data": {
      "text/plain": [
       "55    77\n",
       "20    68\n",
       "51    66\n",
       "30    60\n",
       "43    58\n",
       "10    54\n",
       "25    53\n",
       "9     50\n",
       "0     48\n",
       "31    46\n",
       "40    44\n",
       "42    43\n",
       "12    42\n",
       "21    42\n",
       "41    41\n",
       "26    39\n",
       "3     37\n",
       "44    34\n",
       "11    33\n",
       "18    33\n",
       "48    32\n",
       "8     28\n",
       "38    28\n",
       "2     26\n",
       "59    26\n",
       "22    26\n",
       "23    26\n",
       "1     25\n",
       "52    25\n",
       "19    24\n",
       "24    23\n",
       "6     23\n",
       "39    23\n",
       "15    23\n",
       "13    21\n",
       "46    21\n",
       "35    20\n",
       "7     20\n",
       "28    20\n",
       "53    19\n",
       "16    19\n",
       "45    19\n",
       "32    18\n",
       "49    18\n",
       "37    17\n",
       "56    16\n",
       "14    15\n",
       "29    15\n",
       "27    15\n",
       "36    14\n",
       "33    14\n",
       "17    11\n",
       "34    11\n",
       "54    10\n",
       "50     8\n",
       "47     8\n",
       "57     8\n",
       "58     8\n",
       "4      6\n",
       "5      6\n",
       "dtype: int64"
      ]
     },
     "execution_count": 26,
     "metadata": {},
     "output_type": "execute_result"
    }
   ],
   "source": []
  }
 ],
 "metadata": {
  "interpreter": {
   "hash": "6d46af94c2bbce495f1e668725902fa517c90b1782bcfe2fce0dd9868df553d3"
  },
  "kernelspec": {
   "display_name": "Python 3.8.8 64-bit ('base': conda)",
   "language": "python",
   "name": "python3"
  },
  "language_info": {
   "codemirror_mode": {
    "name": "ipython",
    "version": 3
   },
   "file_extension": ".py",
   "mimetype": "text/x-python",
   "name": "python",
   "nbconvert_exporter": "python",
   "pygments_lexer": "ipython3",
   "version": "3.8.8"
  },
  "orig_nbformat": 4
 },
 "nbformat": 4,
 "nbformat_minor": 2
}
